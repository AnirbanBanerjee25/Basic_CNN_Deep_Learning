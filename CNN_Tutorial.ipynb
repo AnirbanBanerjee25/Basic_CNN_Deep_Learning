{
 "cells": [
  {
   "cell_type": "code",
   "execution_count": 1,
   "id": "c107ece1",
   "metadata": {},
   "outputs": [
    {
     "name": "stdout",
     "output_type": "stream",
     "text": [
      "WARNING:tensorflow:From C:\\Users\\Anirban Banerjee\\AppData\\Roaming\\Python\\Python310\\site-packages\\keras\\src\\losses.py:2976: The name tf.losses.sparse_softmax_cross_entropy is deprecated. Please use tf.compat.v1.losses.sparse_softmax_cross_entropy instead.\n",
      "\n"
     ]
    }
   ],
   "source": [
    "import tensorflow as tf\n",
    "from keras.preprocessing.image import ImageDataGenerator"
   ]
  },
  {
   "cell_type": "code",
   "execution_count": 4,
   "id": "1189d612",
   "metadata": {},
   "outputs": [
    {
     "name": "stdout",
     "output_type": "stream",
     "text": [
      "Found 8000 images belonging to 2 classes.\n"
     ]
    }
   ],
   "source": [
    "train_datagen = ImageDataGenerator(rescale = 1./255,\n",
    "                                   shear_range = 0.2,\n",
    "                                   zoom_range = 0.2,\n",
    "                                   horizontal_flip = True)\n",
    "training_set = train_datagen.flow_from_directory(r'C:\\Users\\Anirban Banerjee\\Downloads\\Section+40+-+Convolutional+Neural+Networks+(CNN)\\Section 40 - Convolutional Neural Networks (CNN)\\dataset\\training_set',\n",
    "                                                 target_size = (64, 64),\n",
    "                                                 batch_size = 32,\n",
    "                                                 class_mode = 'binary')"
   ]
  },
  {
   "cell_type": "code",
   "execution_count": 5,
   "id": "d2308345",
   "metadata": {},
   "outputs": [
    {
     "name": "stdout",
     "output_type": "stream",
     "text": [
      "Found 2000 images belonging to 2 classes.\n"
     ]
    }
   ],
   "source": [
    "test_datagen = ImageDataGenerator(rescale = 1./255)\n",
    "test_set = test_datagen.flow_from_directory(r'C:\\Users\\Anirban Banerjee\\Downloads\\Section+40+-+Convolutional+Neural+Networks+(CNN)\\Section 40 - Convolutional Neural Networks (CNN)\\dataset\\test_set',\n",
    "                                            target_size = (64, 64),\n",
    "                                            batch_size = 32,\n",
    "                                            class_mode = 'binary')"
   ]
  },
  {
   "cell_type": "code",
   "execution_count": 6,
   "id": "f2afa7ea",
   "metadata": {},
   "outputs": [
    {
     "name": "stdout",
     "output_type": "stream",
     "text": [
      "WARNING:tensorflow:From C:\\Users\\Anirban Banerjee\\AppData\\Roaming\\Python\\Python310\\site-packages\\keras\\src\\backend.py:873: The name tf.get_default_graph is deprecated. Please use tf.compat.v1.get_default_graph instead.\n",
      "\n"
     ]
    }
   ],
   "source": [
    "cnn = tf.keras.models.Sequential()"
   ]
  },
  {
   "cell_type": "code",
   "execution_count": 7,
   "id": "613db78a",
   "metadata": {},
   "outputs": [],
   "source": [
    "cnn.add(tf.keras.layers.Conv2D(filters=32, kernel_size=3, activation='relu', input_shape=[64, 64, 3]))"
   ]
  },
  {
   "cell_type": "code",
   "execution_count": 12,
   "id": "58cbf78c",
   "metadata": {},
   "outputs": [],
   "source": [
    "cnn.add(tf.keras.layers.MaxPool2D(pool_size=(2,2), strides=(2,2), padding='valid'))"
   ]
  },
  {
   "cell_type": "code",
   "execution_count": 13,
   "id": "fff132bd",
   "metadata": {},
   "outputs": [],
   "source": [
    "cnn.add(tf.keras.layers.Conv2D(filters=32, kernel_size=3, activation='relu'))\n",
    "cnn.add(tf.keras.layers.MaxPool2D(pool_size=2, strides=2))"
   ]
  },
  {
   "cell_type": "code",
   "execution_count": 14,
   "id": "f11466df",
   "metadata": {},
   "outputs": [],
   "source": [
    "cnn.add(tf.keras.layers.Flatten())"
   ]
  },
  {
   "cell_type": "code",
   "execution_count": 15,
   "id": "cef2f1e3",
   "metadata": {},
   "outputs": [],
   "source": [
    "cnn.add(tf.keras.layers.Dense(units=128, activation='relu'))"
   ]
  },
  {
   "cell_type": "code",
   "execution_count": 16,
   "id": "56e02656",
   "metadata": {},
   "outputs": [],
   "source": [
    "cnn.add(tf.keras.layers.Dense(units=1, activation='sigmoid'))"
   ]
  },
  {
   "cell_type": "code",
   "execution_count": 17,
   "id": "c8d00a19",
   "metadata": {},
   "outputs": [
    {
     "name": "stdout",
     "output_type": "stream",
     "text": [
      "WARNING:tensorflow:From C:\\Users\\Anirban Banerjee\\AppData\\Roaming\\Python\\Python310\\site-packages\\keras\\src\\optimizers\\__init__.py:309: The name tf.train.Optimizer is deprecated. Please use tf.compat.v1.train.Optimizer instead.\n",
      "\n"
     ]
    }
   ],
   "source": [
    "cnn.compile(optimizer = 'adam', loss = 'binary_crossentropy', metrics = ['accuracy'])"
   ]
  },
  {
   "cell_type": "code",
   "execution_count": 18,
   "id": "9cdf1c9b",
   "metadata": {},
   "outputs": [
    {
     "name": "stdout",
     "output_type": "stream",
     "text": [
      "Epoch 1/25\n",
      "WARNING:tensorflow:From C:\\Users\\Anirban Banerjee\\AppData\\Roaming\\Python\\Python310\\site-packages\\keras\\src\\utils\\tf_utils.py:492: The name tf.ragged.RaggedTensorValue is deprecated. Please use tf.compat.v1.ragged.RaggedTensorValue instead.\n",
      "\n",
      "WARNING:tensorflow:From C:\\Users\\Anirban Banerjee\\AppData\\Roaming\\Python\\Python310\\site-packages\\keras\\src\\engine\\base_layer_utils.py:384: The name tf.executing_eagerly_outside_functions is deprecated. Please use tf.compat.v1.executing_eagerly_outside_functions instead.\n",
      "\n",
      "250/250 [==============================] - 47s 183ms/step - loss: 0.6707 - accuracy: 0.5811 - val_loss: 0.6492 - val_accuracy: 0.6295\n",
      "Epoch 2/25\n",
      "250/250 [==============================] - 36s 146ms/step - loss: 0.6222 - accuracy: 0.6564 - val_loss: 0.6031 - val_accuracy: 0.6660\n",
      "Epoch 3/25\n",
      "250/250 [==============================] - 24s 97ms/step - loss: 0.5704 - accuracy: 0.7065 - val_loss: 0.5755 - val_accuracy: 0.6975\n",
      "Epoch 4/25\n",
      "250/250 [==============================] - 24s 94ms/step - loss: 0.5355 - accuracy: 0.7311 - val_loss: 0.5135 - val_accuracy: 0.7550\n",
      "Epoch 5/25\n",
      "250/250 [==============================] - 24s 96ms/step - loss: 0.5269 - accuracy: 0.7358 - val_loss: 0.4931 - val_accuracy: 0.7590\n",
      "Epoch 6/25\n",
      "250/250 [==============================] - 24s 96ms/step - loss: 0.5085 - accuracy: 0.7511 - val_loss: 0.4915 - val_accuracy: 0.7720\n",
      "Epoch 7/25\n",
      "250/250 [==============================] - 24s 96ms/step - loss: 0.4882 - accuracy: 0.7639 - val_loss: 0.5210 - val_accuracy: 0.7665\n",
      "Epoch 8/25\n",
      "250/250 [==============================] - 24s 95ms/step - loss: 0.4756 - accuracy: 0.7674 - val_loss: 0.4611 - val_accuracy: 0.7885\n",
      "Epoch 9/25\n",
      "250/250 [==============================] - 24s 96ms/step - loss: 0.4611 - accuracy: 0.7772 - val_loss: 0.4528 - val_accuracy: 0.7965\n",
      "Epoch 10/25\n",
      "250/250 [==============================] - 25s 99ms/step - loss: 0.4515 - accuracy: 0.7887 - val_loss: 0.4836 - val_accuracy: 0.7745\n",
      "Epoch 11/25\n",
      "250/250 [==============================] - 24s 97ms/step - loss: 0.4517 - accuracy: 0.7885 - val_loss: 0.4716 - val_accuracy: 0.7825\n",
      "Epoch 12/25\n",
      "250/250 [==============================] - 24s 95ms/step - loss: 0.4270 - accuracy: 0.7993 - val_loss: 0.4468 - val_accuracy: 0.8020\n",
      "Epoch 13/25\n",
      "250/250 [==============================] - 24s 97ms/step - loss: 0.4212 - accuracy: 0.8055 - val_loss: 0.4389 - val_accuracy: 0.8000\n",
      "Epoch 14/25\n",
      "250/250 [==============================] - 24s 95ms/step - loss: 0.4187 - accuracy: 0.8070 - val_loss: 0.4408 - val_accuracy: 0.7990\n",
      "Epoch 15/25\n",
      "250/250 [==============================] - 24s 96ms/step - loss: 0.4100 - accuracy: 0.8074 - val_loss: 0.4506 - val_accuracy: 0.7860\n",
      "Epoch 16/25\n",
      "250/250 [==============================] - 24s 95ms/step - loss: 0.3918 - accuracy: 0.8223 - val_loss: 0.4396 - val_accuracy: 0.7955\n",
      "Epoch 17/25\n",
      "250/250 [==============================] - 24s 95ms/step - loss: 0.3882 - accuracy: 0.8194 - val_loss: 0.5037 - val_accuracy: 0.7605\n",
      "Epoch 18/25\n",
      "250/250 [==============================] - 24s 97ms/step - loss: 0.3844 - accuracy: 0.8245 - val_loss: 0.4867 - val_accuracy: 0.7815\n",
      "Epoch 19/25\n",
      "250/250 [==============================] - 24s 95ms/step - loss: 0.3746 - accuracy: 0.8315 - val_loss: 0.4440 - val_accuracy: 0.7890\n",
      "Epoch 20/25\n",
      "250/250 [==============================] - 25s 100ms/step - loss: 0.3683 - accuracy: 0.8301 - val_loss: 0.4499 - val_accuracy: 0.8005\n",
      "Epoch 21/25\n",
      "250/250 [==============================] - 40s 161ms/step - loss: 0.3533 - accuracy: 0.8406 - val_loss: 0.4877 - val_accuracy: 0.7870\n",
      "Epoch 22/25\n",
      "250/250 [==============================] - 39s 157ms/step - loss: 0.3460 - accuracy: 0.8479 - val_loss: 0.4203 - val_accuracy: 0.8175\n",
      "Epoch 23/25\n",
      "250/250 [==============================] - 40s 158ms/step - loss: 0.3458 - accuracy: 0.8490 - val_loss: 0.5039 - val_accuracy: 0.7790\n",
      "Epoch 24/25\n",
      "250/250 [==============================] - 39s 156ms/step - loss: 0.3433 - accuracy: 0.8435 - val_loss: 0.4726 - val_accuracy: 0.7990\n",
      "Epoch 25/25\n",
      "250/250 [==============================] - 39s 157ms/step - loss: 0.3299 - accuracy: 0.8512 - val_loss: 0.5021 - val_accuracy: 0.7860\n"
     ]
    },
    {
     "data": {
      "text/plain": [
       "<keras.src.callbacks.History at 0x1912e9d4c10>"
      ]
     },
     "execution_count": 18,
     "metadata": {},
     "output_type": "execute_result"
    }
   ],
   "source": [
    "cnn.fit(x = training_set, validation_data = test_set, epochs = 25)"
   ]
  },
  {
   "cell_type": "code",
   "execution_count": 20,
   "id": "9e783e87",
   "metadata": {},
   "outputs": [
    {
     "name": "stdout",
     "output_type": "stream",
     "text": [
      "1/1 [==============================] - 0s 153ms/step\n"
     ]
    }
   ],
   "source": [
    "import numpy as np\n",
    "from keras.preprocessing import image\n",
    "test_image = image.load_img(r'C:\\Users\\Anirban Banerjee\\Downloads\\Section+40+-+Convolutional+Neural+Networks+(CNN)\\Section 40 - Convolutional Neural Networks (CNN)\\dataset\\single_prediction\\cat_or_dog_1.jpg', target_size = (64, 64))\n",
    "test_image = image.img_to_array(test_image)\n",
    "test_image = np.expand_dims(test_image, axis = 0)\n",
    "result = cnn.predict(test_image)\n",
    "training_set.class_indices\n",
    "if result[0][0] == 1:\n",
    "  prediction = 'dog'\n",
    "else:\n",
    "  prediction = 'cat'"
   ]
  },
  {
   "cell_type": "code",
   "execution_count": 22,
   "id": "71006278",
   "metadata": {},
   "outputs": [
    {
     "name": "stdout",
     "output_type": "stream",
     "text": [
      "dog\n"
     ]
    }
   ],
   "source": [
    "print(prediction)"
   ]
  },
  {
   "cell_type": "code",
   "execution_count": 23,
   "id": "4cd4d364",
   "metadata": {},
   "outputs": [
    {
     "name": "stdout",
     "output_type": "stream",
     "text": [
      "1/1 [==============================] - 0s 29ms/step\n"
     ]
    }
   ],
   "source": [
    "import numpy as np\n",
    "from keras.preprocessing import image\n",
    "test_image = image.load_img(r'C:\\Users\\Anirban Banerjee\\Downloads\\Section+40+-+Convolutional+Neural+Networks+(CNN)\\Section 40 - Convolutional Neural Networks (CNN)\\dataset\\single_prediction\\cat_or_dog_2.jpg', target_size = (64, 64))\n",
    "test_image = image.img_to_array(test_image)\n",
    "test_image = np.expand_dims(test_image, axis = 0)\n",
    "result = cnn.predict(test_image)\n",
    "training_set.class_indices\n",
    "if result[0][0] == 1:\n",
    "  prediction = 'dog'\n",
    "else:\n",
    "  prediction = 'cat'\n"
   ]
  },
  {
   "cell_type": "code",
   "execution_count": 24,
   "id": "79639513",
   "metadata": {},
   "outputs": [
    {
     "name": "stdout",
     "output_type": "stream",
     "text": [
      "dog\n"
     ]
    }
   ],
   "source": [
    "print(prediction)"
   ]
  }
 ],
 "metadata": {
  "kernelspec": {
   "display_name": "Python 3 (ipykernel)",
   "language": "python",
   "name": "python3"
  },
  "language_info": {
   "codemirror_mode": {
    "name": "ipython",
    "version": 3
   },
   "file_extension": ".py",
   "mimetype": "text/x-python",
   "name": "python",
   "nbconvert_exporter": "python",
   "pygments_lexer": "ipython3",
   "version": "3.10.11"
  }
 },
 "nbformat": 4,
 "nbformat_minor": 5
}
